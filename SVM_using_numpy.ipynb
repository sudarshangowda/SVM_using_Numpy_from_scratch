{
  "nbformat": 4,
  "nbformat_minor": 0,
  "metadata": {
    "colab": {
      "name": "ML_lab_SVM_gd_class_interface",
      "provenance": [],
      "collapsed_sections": []
    },
    "kernelspec": {
      "name": "python3",
      "display_name": "Python 3"
    },
    "language_info": {
      "name": "python"
    }
  },
  "cells": [
    {
      "cell_type": "code",
      "metadata": {
        "id": "Qu_1_u-Wb7Rz"
      },
      "source": [
        "#importing all the required libraries\n",
        "import numpy as np \n",
        "import pandas as pd             \n",
        "from matplotlib import pyplot as plt\n",
        "%matplotlib inline\n",
        "\n",
        "from random import shuffle"
      ],
      "execution_count": null,
      "outputs": []
    },
    {
      "cell_type": "code",
      "metadata": {
        "id": "iocTsUtTb8Wo"
      },
      "source": [
        "# downloading the datset \n",
        "url = \"https://archive.ics.uci.edu/ml/machine-learning-databases/00229/Skin_NonSkin.txt\" \n",
        "data = pd.read_csv(url, header = None, sep='\\t')\n",
        "\n",
        "np.random.seed(1)\n",
        "\n",
        "msk = np.random.rand(len(data)) < 0.8\n",
        "data[msk].to_csv('train.csv', header=False, index=False)\n",
        "data[~msk].to_csv('test.csv', header=False, index=False)"
      ],
      "execution_count": null,
      "outputs": []
    },
    {
      "cell_type": "code",
      "metadata": {
        "id": "q7rM0OHSp1Fx"
      },
      "source": [
        "train = data[msk]  #separating training data"
      ],
      "execution_count": null,
      "outputs": []
    },
    {
      "cell_type": "code",
      "metadata": {
        "id": "a5GYXgfYp2Qn"
      },
      "source": [
        "test = data[~msk]   #separating testing data"
      ],
      "execution_count": null,
      "outputs": []
    },
    {
      "cell_type": "code",
      "metadata": {
        "id": "PbrSYDJWjsai"
      },
      "source": [
        "df = train.append(test)"
      ],
      "execution_count": null,
      "outputs": []
    },
    {
      "cell_type": "code",
      "metadata": {
        "colab": {
          "base_uri": "https://localhost:8080/",
          "height": 419
        },
        "id": "_Z6wyOVupxyJ",
        "outputId": "a3f9d6b0-f839-4b20-ce2e-b768ee43c640"
      },
      "source": [
        "df"
      ],
      "execution_count": null,
      "outputs": [
        {
          "output_type": "execute_result",
          "data": {
            "text/html": [
              "<div>\n",
              "<style scoped>\n",
              "    .dataframe tbody tr th:only-of-type {\n",
              "        vertical-align: middle;\n",
              "    }\n",
              "\n",
              "    .dataframe tbody tr th {\n",
              "        vertical-align: top;\n",
              "    }\n",
              "\n",
              "    .dataframe thead th {\n",
              "        text-align: right;\n",
              "    }\n",
              "</style>\n",
              "<table border=\"1\" class=\"dataframe\">\n",
              "  <thead>\n",
              "    <tr style=\"text-align: right;\">\n",
              "      <th></th>\n",
              "      <th>0</th>\n",
              "      <th>1</th>\n",
              "      <th>2</th>\n",
              "      <th>3</th>\n",
              "    </tr>\n",
              "  </thead>\n",
              "  <tbody>\n",
              "    <tr>\n",
              "      <th>0</th>\n",
              "      <td>74</td>\n",
              "      <td>85</td>\n",
              "      <td>123</td>\n",
              "      <td>1</td>\n",
              "    </tr>\n",
              "    <tr>\n",
              "      <th>1</th>\n",
              "      <td>73</td>\n",
              "      <td>84</td>\n",
              "      <td>122</td>\n",
              "      <td>1</td>\n",
              "    </tr>\n",
              "    <tr>\n",
              "      <th>2</th>\n",
              "      <td>72</td>\n",
              "      <td>83</td>\n",
              "      <td>121</td>\n",
              "      <td>1</td>\n",
              "    </tr>\n",
              "    <tr>\n",
              "      <th>3</th>\n",
              "      <td>70</td>\n",
              "      <td>81</td>\n",
              "      <td>119</td>\n",
              "      <td>1</td>\n",
              "    </tr>\n",
              "    <tr>\n",
              "      <th>4</th>\n",
              "      <td>70</td>\n",
              "      <td>81</td>\n",
              "      <td>119</td>\n",
              "      <td>1</td>\n",
              "    </tr>\n",
              "    <tr>\n",
              "      <th>...</th>\n",
              "      <td>...</td>\n",
              "      <td>...</td>\n",
              "      <td>...</td>\n",
              "      <td>...</td>\n",
              "    </tr>\n",
              "    <tr>\n",
              "      <th>245048</th>\n",
              "      <td>163</td>\n",
              "      <td>162</td>\n",
              "      <td>112</td>\n",
              "      <td>2</td>\n",
              "    </tr>\n",
              "    <tr>\n",
              "      <th>245049</th>\n",
              "      <td>163</td>\n",
              "      <td>162</td>\n",
              "      <td>112</td>\n",
              "      <td>2</td>\n",
              "    </tr>\n",
              "    <tr>\n",
              "      <th>245050</th>\n",
              "      <td>163</td>\n",
              "      <td>162</td>\n",
              "      <td>112</td>\n",
              "      <td>2</td>\n",
              "    </tr>\n",
              "    <tr>\n",
              "      <th>245053</th>\n",
              "      <td>163</td>\n",
              "      <td>162</td>\n",
              "      <td>112</td>\n",
              "      <td>2</td>\n",
              "    </tr>\n",
              "    <tr>\n",
              "      <th>245054</th>\n",
              "      <td>163</td>\n",
              "      <td>162</td>\n",
              "      <td>112</td>\n",
              "      <td>2</td>\n",
              "    </tr>\n",
              "  </tbody>\n",
              "</table>\n",
              "<p>245057 rows × 4 columns</p>\n",
              "</div>"
            ],
            "text/plain": [
              "          0    1    2  3\n",
              "0        74   85  123  1\n",
              "1        73   84  122  1\n",
              "2        72   83  121  1\n",
              "3        70   81  119  1\n",
              "4        70   81  119  1\n",
              "...     ...  ...  ... ..\n",
              "245048  163  162  112  2\n",
              "245049  163  162  112  2\n",
              "245050  163  162  112  2\n",
              "245053  163  162  112  2\n",
              "245054  163  162  112  2\n",
              "\n",
              "[245057 rows x 4 columns]"
            ]
          },
          "metadata": {
            "tags": []
          },
          "execution_count": 342
        }
      ]
    },
    {
      "cell_type": "code",
      "metadata": {
        "id": "YKHXG3eqp7Wq"
      },
      "source": [
        "df.iloc[:, :3] = (df - df.mean())/df.std() #normalizing data "
      ],
      "execution_count": null,
      "outputs": []
    },
    {
      "cell_type": "code",
      "metadata": {
        "id": "BFt2077jqI6W"
      },
      "source": [
        "df[3] =df[3].apply(lambda x: -1 if x>1 else 1) #assigning target values as 1's and -1's since in SVM classify data as 1 and -1"
      ],
      "execution_count": null,
      "outputs": []
    },
    {
      "cell_type": "code",
      "metadata": {
        "colab": {
          "base_uri": "https://localhost:8080/",
          "height": 419
        },
        "id": "9cNaEa1hrKVk",
        "outputId": "3264f3d7-6159-4851-848a-1a6b8ce14a0b"
      },
      "source": [
        "df"
      ],
      "execution_count": null,
      "outputs": [
        {
          "output_type": "execute_result",
          "data": {
            "text/html": [
              "<div>\n",
              "<style scoped>\n",
              "    .dataframe tbody tr th:only-of-type {\n",
              "        vertical-align: middle;\n",
              "    }\n",
              "\n",
              "    .dataframe tbody tr th {\n",
              "        vertical-align: top;\n",
              "    }\n",
              "\n",
              "    .dataframe thead th {\n",
              "        text-align: right;\n",
              "    }\n",
              "</style>\n",
              "<table border=\"1\" class=\"dataframe\">\n",
              "  <thead>\n",
              "    <tr style=\"text-align: right;\">\n",
              "      <th></th>\n",
              "      <th>0</th>\n",
              "      <th>1</th>\n",
              "      <th>2</th>\n",
              "      <th>3</th>\n",
              "    </tr>\n",
              "  </thead>\n",
              "  <tbody>\n",
              "    <tr>\n",
              "      <th>0</th>\n",
              "      <td>-0.820254</td>\n",
              "      <td>-0.792566</td>\n",
              "      <td>-0.002441</td>\n",
              "      <td>1</td>\n",
              "    </tr>\n",
              "    <tr>\n",
              "      <th>1</th>\n",
              "      <td>-0.836317</td>\n",
              "      <td>-0.809249</td>\n",
              "      <td>-0.016223</td>\n",
              "      <td>1</td>\n",
              "    </tr>\n",
              "    <tr>\n",
              "      <th>2</th>\n",
              "      <td>-0.852380</td>\n",
              "      <td>-0.825932</td>\n",
              "      <td>-0.030004</td>\n",
              "      <td>1</td>\n",
              "    </tr>\n",
              "    <tr>\n",
              "      <th>3</th>\n",
              "      <td>-0.884505</td>\n",
              "      <td>-0.859298</td>\n",
              "      <td>-0.057567</td>\n",
              "      <td>1</td>\n",
              "    </tr>\n",
              "    <tr>\n",
              "      <th>4</th>\n",
              "      <td>-0.884505</td>\n",
              "      <td>-0.859298</td>\n",
              "      <td>-0.057567</td>\n",
              "      <td>1</td>\n",
              "    </tr>\n",
              "    <tr>\n",
              "      <th>...</th>\n",
              "      <td>...</td>\n",
              "      <td>...</td>\n",
              "      <td>...</td>\n",
              "      <td>...</td>\n",
              "    </tr>\n",
              "    <tr>\n",
              "      <th>245048</th>\n",
              "      <td>0.609335</td>\n",
              "      <td>0.492027</td>\n",
              "      <td>-0.154036</td>\n",
              "      <td>-1</td>\n",
              "    </tr>\n",
              "    <tr>\n",
              "      <th>245049</th>\n",
              "      <td>0.609335</td>\n",
              "      <td>0.492027</td>\n",
              "      <td>-0.154036</td>\n",
              "      <td>-1</td>\n",
              "    </tr>\n",
              "    <tr>\n",
              "      <th>245050</th>\n",
              "      <td>0.609335</td>\n",
              "      <td>0.492027</td>\n",
              "      <td>-0.154036</td>\n",
              "      <td>-1</td>\n",
              "    </tr>\n",
              "    <tr>\n",
              "      <th>245053</th>\n",
              "      <td>0.609335</td>\n",
              "      <td>0.492027</td>\n",
              "      <td>-0.154036</td>\n",
              "      <td>-1</td>\n",
              "    </tr>\n",
              "    <tr>\n",
              "      <th>245054</th>\n",
              "      <td>0.609335</td>\n",
              "      <td>0.492027</td>\n",
              "      <td>-0.154036</td>\n",
              "      <td>-1</td>\n",
              "    </tr>\n",
              "  </tbody>\n",
              "</table>\n",
              "<p>245057 rows × 4 columns</p>\n",
              "</div>"
            ],
            "text/plain": [
              "               0         1         2  3\n",
              "0      -0.820254 -0.792566 -0.002441  1\n",
              "1      -0.836317 -0.809249 -0.016223  1\n",
              "2      -0.852380 -0.825932 -0.030004  1\n",
              "3      -0.884505 -0.859298 -0.057567  1\n",
              "4      -0.884505 -0.859298 -0.057567  1\n",
              "...          ...       ...       ... ..\n",
              "245048  0.609335  0.492027 -0.154036 -1\n",
              "245049  0.609335  0.492027 -0.154036 -1\n",
              "245050  0.609335  0.492027 -0.154036 -1\n",
              "245053  0.609335  0.492027 -0.154036 -1\n",
              "245054  0.609335  0.492027 -0.154036 -1\n",
              "\n",
              "[245057 rows x 4 columns]"
            ]
          },
          "metadata": {
            "tags": []
          },
          "execution_count": 345
        }
      ]
    },
    {
      "cell_type": "code",
      "metadata": {
        "id": "6Pxskio84e1P"
      },
      "source": [
        "df = df.sample(frac = 1)               #shuffling the data"
      ],
      "execution_count": null,
      "outputs": []
    },
    {
      "cell_type": "code",
      "metadata": {
        "id": "z_ZJkmDbroR5"
      },
      "source": [
        "X = df.iloc[:, :3]"
      ],
      "execution_count": null,
      "outputs": []
    },
    {
      "cell_type": "code",
      "metadata": {
        "id": "pdR4FCWQr11u"
      },
      "source": [
        "ones = np.ones([len(df), 1])           #creating bias values as 1's"
      ],
      "execution_count": null,
      "outputs": []
    },
    {
      "cell_type": "code",
      "metadata": {
        "id": "2d3NZa3qr3BN"
      },
      "source": [
        "X = np.concatenate((ones, X), axis=1)  #adding bias to the features"
      ],
      "execution_count": null,
      "outputs": []
    },
    {
      "cell_type": "code",
      "metadata": {
        "id": "9uhOTwj_r9nY"
      },
      "source": [
        "y = df.iloc[:, 3:].values"
      ],
      "execution_count": null,
      "outputs": []
    },
    {
      "cell_type": "code",
      "metadata": {
        "id": "wgVVVvBy22bx"
      },
      "source": [
        "train_X = X[:200000]"
      ],
      "execution_count": null,
      "outputs": []
    },
    {
      "cell_type": "code",
      "metadata": {
        "colab": {
          "base_uri": "https://localhost:8080/"
        },
        "id": "JtkXse8d9H_n",
        "outputId": "d25ff82e-252c-413e-9e18-65b4226d8c55"
      },
      "source": [
        "train_X.shape"
      ],
      "execution_count": null,
      "outputs": [
        {
          "output_type": "execute_result",
          "data": {
            "text/plain": [
              "(200000, 4)"
            ]
          },
          "metadata": {
            "tags": []
          },
          "execution_count": 352
        }
      ]
    },
    {
      "cell_type": "code",
      "metadata": {
        "id": "WriAz6XH3J-8"
      },
      "source": [
        "train_y = y[:200000]"
      ],
      "execution_count": null,
      "outputs": []
    },
    {
      "cell_type": "code",
      "metadata": {
        "colab": {
          "base_uri": "https://localhost:8080/"
        },
        "id": "uwvpSeR73RI4",
        "outputId": "32e0f8b0-3b89-410c-ef52-42462643f260"
      },
      "source": [
        "train_y.shape"
      ],
      "execution_count": null,
      "outputs": [
        {
          "output_type": "execute_result",
          "data": {
            "text/plain": [
              "(200000, 1)"
            ]
          },
          "metadata": {
            "tags": []
          },
          "execution_count": 354
        }
      ]
    },
    {
      "cell_type": "code",
      "metadata": {
        "id": "p_luNhi_4rCg"
      },
      "source": [
        "test_X = X[200000:]"
      ],
      "execution_count": null,
      "outputs": []
    },
    {
      "cell_type": "code",
      "metadata": {
        "id": "t5McoLeB4yWB"
      },
      "source": [
        "test_y = y[200000:]"
      ],
      "execution_count": null,
      "outputs": []
    },
    {
      "cell_type": "code",
      "metadata": {
        "id": "l_Meq2Q5sA2c"
      },
      "source": [
        "# creating class interface for SVM \n",
        "class SVM():\n",
        "  def __init__(self, X,y,alpha =0.01, lmbda= 0.01, iterations =500):\n",
        "    self.alpha = alpha \n",
        "    self.iterations = iterations\n",
        "    self.lmbda = lmbda\n",
        "    self.train_X= train_X\n",
        "    self.train_y = train_y\n",
        "    self.X = X\n",
        "    self.y = df.iloc[:, :3].values\n",
        "    self.w = np.zeros([1, 3+1]).T\n",
        "    self.h = np.sign(np.dot(X, self.w))                     # this is the hypothesis we need to calculate \n",
        "    self.coef = None\n",
        "    self.intercept = None\n",
        "\n",
        "  def hinge_loss(self,X,y,w):                               # function for calculating loss(Hinge loss is used in SVM)\n",
        "    self.result = max(0, (1-self.h*y))\n",
        "    return self\n",
        "\n",
        "  def fit(self):                                            # training the model using gradient descent \n",
        "    self.loss = np.zeros(self.iterations)\n",
        "    for iter in range(self.iterations):\n",
        "      condition = y * self.h < 1                            # condition to be satisfied to update the parameters \n",
        "      if condition.any():\n",
        "        self.w -= self.alpha * (2 * self.lmbda * self.w - np.dot(train_X.T, train_y))   # if the above condition does not satisfy we update this \n",
        "      else:                                                                             # otherwise we update only the regularization param\n",
        "        self.w -= self.alpha * (2 * self.lmbda * self.w)\n",
        "        self.loss = self.hinge_loss(train_X, train_y, self.w)\n",
        "    return self\n",
        "\n",
        "  def predict(self, X):                                     # function to find target \n",
        "    y = np.sign(np.dot(X, self.w))\n",
        "    return y\n",
        "\n",
        "  def get_w(self):\n",
        "    return self.w  \n"
      ],
      "execution_count": null,
      "outputs": []
    },
    {
      "cell_type": "code",
      "metadata": {
        "id": "TeGzYYz9yl3X"
      },
      "source": [
        "clf= SVM(X,y).fit()                       "
      ],
      "execution_count": null,
      "outputs": []
    },
    {
      "cell_type": "code",
      "metadata": {
        "colab": {
          "base_uri": "https://localhost:8080/"
        },
        "id": "Ibg3f8twzKrJ",
        "outputId": "3f8b953d-2472-4262-e854-0332ce8a0918"
      },
      "source": [
        "param = clf.get_w()                       # these are the optimal parameters for this model\n",
        "param"
      ],
      "execution_count": null,
      "outputs": [
        {
          "output_type": "execute_result",
          "data": {
            "text/plain": [
              "array([[-556525.63235705],\n",
              "       [ -72801.67160664],\n",
              "       [  91423.50552418],\n",
              "       [ 439140.89581712]])"
            ]
          },
          "metadata": {
            "tags": []
          },
          "execution_count": 359
        }
      ]
    },
    {
      "cell_type": "code",
      "metadata": {
        "id": "KGvQwsXY0gAW"
      },
      "source": [
        "pred_y = clf.predict(test_X)              # predicting targets for the test data"
      ],
      "execution_count": null,
      "outputs": []
    },
    {
      "cell_type": "code",
      "metadata": {
        "id": "W0GuUGs21Bs1"
      },
      "source": [
        "from sklearn import metrics"
      ],
      "execution_count": null,
      "outputs": []
    },
    {
      "cell_type": "code",
      "metadata": {
        "colab": {
          "base_uri": "https://localhost:8080/"
        },
        "id": "M80UdgXa04QA",
        "outputId": "45a5e1da-9e8f-4c37-d87a-4e2e2aeb1d18"
      },
      "source": [
        "print('Accuracy: %2.2f %%' % (100. * metrics.accuracy_score(test_y, pred_y)))"
      ],
      "execution_count": null,
      "outputs": [
        {
          "output_type": "stream",
          "text": [
            "Accuracy: 87.37 %\n"
          ],
          "name": "stdout"
        }
      ]
    }
  ]
}